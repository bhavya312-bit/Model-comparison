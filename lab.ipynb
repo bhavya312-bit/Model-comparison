{
 "cells": [
  {
   "cell_type": "code",
   "execution_count": 23,
   "metadata": {
    "colab": {
     "base_uri": "https://localhost:8080/"
    },
    "id": "FT3P-uqcSKQR",
    "outputId": "ff26d5af-c2e5-459e-b50a-7ffd97eaab85"
   },
   "outputs": [
    {
     "name": "stdout",
     "output_type": "stream",
     "text": [
      "Requirement already satisfied: pandas in /usr/local/lib/python3.10/dist-packages (2.2.2)\n",
      "Requirement already satisfied: numpy in /usr/local/lib/python3.10/dist-packages (1.26.4)\n",
      "Requirement already satisfied: scikit-learn in /usr/local/lib/python3.10/dist-packages (1.6.0)\n",
      "Requirement already satisfied: seaborn in /usr/local/lib/python3.10/dist-packages (0.13.2)\n",
      "Requirement already satisfied: matplotlib in /usr/local/lib/python3.10/dist-packages (3.8.0)\n",
      "Requirement already satisfied: python-dateutil>=2.8.2 in /usr/local/lib/python3.10/dist-packages (from pandas) (2.8.2)\n",
      "Requirement already satisfied: pytz>=2020.1 in /usr/local/lib/python3.10/dist-packages (from pandas) (2024.2)\n",
      "Requirement already satisfied: tzdata>=2022.7 in /usr/local/lib/python3.10/dist-packages (from pandas) (2024.2)\n",
      "Requirement already satisfied: scipy>=1.6.0 in /usr/local/lib/python3.10/dist-packages (from scikit-learn) (1.13.1)\n",
      "Requirement already satisfied: joblib>=1.2.0 in /usr/local/lib/python3.10/dist-packages (from scikit-learn) (1.4.2)\n",
      "Requirement already satisfied: threadpoolctl>=3.1.0 in /usr/local/lib/python3.10/dist-packages (from scikit-learn) (3.5.0)\n",
      "Requirement already satisfied: contourpy>=1.0.1 in /usr/local/lib/python3.10/dist-packages (from matplotlib) (1.3.1)\n",
      "Requirement already satisfied: cycler>=0.10 in /usr/local/lib/python3.10/dist-packages (from matplotlib) (0.12.1)\n",
      "Requirement already satisfied: fonttools>=4.22.0 in /usr/local/lib/python3.10/dist-packages (from matplotlib) (4.55.3)\n",
      "Requirement already satisfied: kiwisolver>=1.0.1 in /usr/local/lib/python3.10/dist-packages (from matplotlib) (1.4.7)\n",
      "Requirement already satisfied: packaging>=20.0 in /usr/local/lib/python3.10/dist-packages (from matplotlib) (24.2)\n",
      "Requirement already satisfied: pillow>=6.2.0 in /usr/local/lib/python3.10/dist-packages (from matplotlib) (11.0.0)\n",
      "Requirement already satisfied: pyparsing>=2.3.1 in /usr/local/lib/python3.10/dist-packages (from matplotlib) (3.2.0)\n",
      "Requirement already satisfied: six>=1.5 in /usr/local/lib/python3.10/dist-packages (from python-dateutil>=2.8.2->pandas) (1.17.0)\n"
     ]
    }
   ],
   "source": [
    "# Install required libraries\n",
    "!pip install pandas numpy scikit-learn seaborn matplotlib\n",
    "\n",
    "# Import libraries\n",
    "import pandas as pd\n",
    "import numpy as np\n",
    "import seaborn as sns\n",
    "import matplotlib.pyplot as plt\n",
    "from sklearn.model_selection import train_test_split\n",
    "from sklearn.preprocessing import StandardScaler\n",
    "from sklearn.metrics import classification_report, accuracy_score\n",
    "from sklearn.ensemble import RandomForestClassifier\n",
    "from sklearn.linear_model import LogisticRegression\n",
    "from sklearn.svm import SVC"
   ]
  },
  {
   "cell_type": "code",
   "execution_count": 24,
   "metadata": {
    "colab": {
     "base_uri": "https://localhost:8080/"
    },
    "id": "c5_yedJvSpiz",
    "outputId": "2f83e61e-9909-4256-d992-521f30196b9e"
   },
   "outputs": [
    {
     "name": "stdout",
     "output_type": "stream",
     "text": [
      "Available columns in the dataset:\n",
      "Index(['F1', 'F2', 'F3', 'F4', 'F5', 'F6', 'F7', 'F8', 'F9', 'F10', 'F11',\n",
      "       'F12', 'F13', 'F14', 'F15', 'Target1', 'Target2', 'Target3', 'Target4',\n",
      "       'Target5'],\n",
      "      dtype='object')\n",
      "\n",
      "First few rows of the dataset:\n",
      "     F1    F2    F3     F4      F5    F6     F7     F8   F9   F10      F11  \\\n",
      "0  52.9  1.33  49.1  37.13  129.43  35.0  0.281  112.7  207  0.55   98.971   \n",
      "1  87.6  2.12  48.8  42.10  171.07  37.6  0.153  157.4  188  0.86  101.179   \n",
      "2  73.3  2.72  93.8  20.11  163.69  44.3  0.367  348.7  270  1.87   98.919   \n",
      "3  65.6  2.58  48.1  35.11   63.37  32.5  0.279  321.2  322  1.75  101.560   \n",
      "4  39.6  2.58  49.3  32.93   63.40  47.0  0.149  205.6  203  1.55   98.148   \n",
      "\n",
      "    F12   F13   F14   F15  Target1  Target2  Target3  Target4  Target5  \n",
      "0  2.87  1362  15.9   429    0.959    1.531     79.3     4.19    33.29  \n",
      "1  2.34  5130  26.1  1819    0.728    1.690     57.2     5.19    34.50  \n",
      "2  2.13  7811  16.7  1763    0.784    1.865     61.6     7.77   129.28  \n",
      "3  2.91  1641  32.1   203    0.884    1.920     71.3     8.40   186.65  \n",
      "4  1.93  7648  27.5   276    0.736    1.711     58.5     4.75    52.32  \n",
      "\n",
      "Dataset Info:\n",
      "<class 'pandas.core.frame.DataFrame'>\n",
      "RangeIndex: 1000 entries, 0 to 999\n",
      "Data columns (total 20 columns):\n",
      " #   Column   Non-Null Count  Dtype  \n",
      "---  ------   --------------  -----  \n",
      " 0   F1       1000 non-null   float64\n",
      " 1   F2       1000 non-null   float64\n",
      " 2   F3       1000 non-null   float64\n",
      " 3   F4       1000 non-null   float64\n",
      " 4   F5       1000 non-null   float64\n",
      " 5   F6       1000 non-null   float64\n",
      " 6   F7       1000 non-null   float64\n",
      " 7   F8       1000 non-null   float64\n",
      " 8   F9       1000 non-null   int64  \n",
      " 9   F10      1000 non-null   float64\n",
      " 10  F11      1000 non-null   float64\n",
      " 11  F12      1000 non-null   float64\n",
      " 12  F13      1000 non-null   int64  \n",
      " 13  F14      1000 non-null   float64\n",
      " 14  F15      1000 non-null   int64  \n",
      " 15  Target1  1000 non-null   float64\n",
      " 16  Target2  1000 non-null   float64\n",
      " 17  Target3  1000 non-null   float64\n",
      " 18  Target4  1000 non-null   float64\n",
      " 19  Target5  1000 non-null   float64\n",
      "dtypes: float64(17), int64(3)\n",
      "memory usage: 156.4 KB\n",
      "None\n"
     ]
    }
   ],
   "source": [
    "# Read the dataset\n",
    "df = pd.read_csv('Fuel_cell_performance_data-Full.csv')\n",
    "\n",
    "# Display information about the dataset\n",
    "print(\"Available columns in the dataset:\")\n",
    "print(df.columns)\n",
    "print(\"\\nFirst few rows of the dataset:\")\n",
    "print(df.head())\n",
    "print(\"\\nDataset Info:\")\n",
    "print(df.info())"
   ]
  },
  {
   "cell_type": "code",
   "execution_count": 26,
   "metadata": {
    "id": "mJ1H9mqWSw9t"
   },
   "outputs": [],
   "source": [
    "# Prepare features and targets\n",
    "feature_cols = [col for col in df.columns if col.startswith('F')]\n",
    "X = df[feature_cols]\n",
    "\n",
    "# Create target based on highest value among Target1 through Target5\n",
    "target_cols = ['Target1', 'Target2', 'Target3', 'Target4', 'Target5']\n",
    "y = df[target_cols].idxmax(axis=1)\n",
    "\n",
    "# Split data\n",
    "X_train, X_test, y_train, y_test = train_test_split(X, y, test_size=0.3, random_state=42)\n",
    "\n",
    "# Scale features\n",
    "scaler = StandardScaler()\n",
    "X_train_scaled = scaler.fit_transform(X_train)\n",
    "X_test_scaled = scaler.transform(X_test)\n",
    "\n",
    "# Convert scaled arrays back to DataFrames\n",
    "X_train_scaled = pd.DataFrame(X_train_scaled, columns=X_train.columns)\n",
    "X_test_scaled = pd.DataFrame(X_test_scaled, columns=X_test.columns)"
   ]
  },
  {
   "cell_type": "code",
   "execution_count": 27,
   "metadata": {
    "colab": {
     "base_uri": "https://localhost:8080/"
    },
    "id": "82C1KsiZTVXk",
    "outputId": "b1fa1db4-be74-4f85-af99-282e51725db2"
   },
   "outputs": [
    {
     "name": "stdout",
     "output_type": "stream",
     "text": [
      "\n",
      "Training Random Forest...\n",
      "\n",
      "Training Logistic Regression...\n",
      "\n",
      "Training SVM...\n"
     ]
    }
   ],
   "source": [
    "def train_evaluate_model(model, name, X_train, X_test, y_train, y_test):\n",
    "    model.fit(X_train, y_train)\n",
    "    y_pred = model.predict(X_test)\n",
    "    accuracy = accuracy_score(y_test, y_pred)\n",
    "    class_report = classification_report(y_test, y_pred)\n",
    "    return {'accuracy': accuracy, 'classification_report': class_report}\n",
    "\n",
    "# Create and evaluate models\n",
    "models = {\n",
    "    'Random Forest': RandomForestClassifier(random_state=42),\n",
    "    'Logistic Regression': LogisticRegression(max_iter=1000, random_state=42),\n",
    "    'SVM': SVC(random_state=42)\n",
    "}\n",
    "\n",
    "# Train and evaluate each model\n",
    "results = {}\n",
    "for name, model in models.items():\n",
    "    print(f\"\\nTraining {name}...\")\n",
    "    results[name] = train_evaluate_model(model, name, X_train_scaled, X_test_scaled, y_train, y_test)"
   ]
  },
  {
   "cell_type": "code",
   "execution_count": 28,
   "metadata": {
    "colab": {
     "base_uri": "https://localhost:8080/",
     "height": 1000
    },
    "id": "lOBugh6XTY8i",
    "outputId": "93419abb-0d6f-4c50-c80b-2f48cc703cca"
   },
   "outputs": [
    {
     "name": "stdout",
     "output_type": "stream",
     "text": [
      "\n",
      "--------------------------------------------------\n",
      "Random Forest Results:\n",
      "Accuracy: 0.8600\n",
      "\n",
      "Classification Report:\n",
      "              precision    recall  f1-score   support\n",
      "\n",
      "     Target3       0.86      0.95      0.90       209\n",
      "     Target5       0.85      0.66      0.74        91\n",
      "\n",
      "    accuracy                           0.86       300\n",
      "   macro avg       0.85      0.80      0.82       300\n",
      "weighted avg       0.86      0.86      0.85       300\n",
      "\n",
      "\n",
      "--------------------------------------------------\n",
      "Logistic Regression Results:\n",
      "Accuracy: 0.8533\n",
      "\n",
      "Classification Report:\n",
      "              precision    recall  f1-score   support\n",
      "\n",
      "     Target3       0.89      0.90      0.90       209\n",
      "     Target5       0.76      0.75      0.76        91\n",
      "\n",
      "    accuracy                           0.85       300\n",
      "   macro avg       0.83      0.82      0.83       300\n",
      "weighted avg       0.85      0.85      0.85       300\n",
      "\n",
      "\n",
      "--------------------------------------------------\n",
      "SVM Results:\n",
      "Accuracy: 0.8733\n",
      "\n",
      "Classification Report:\n",
      "              precision    recall  f1-score   support\n",
      "\n",
      "     Target3       0.91      0.91      0.91       209\n",
      "     Target5       0.80      0.78      0.79        91\n",
      "\n",
      "    accuracy                           0.87       300\n",
      "   macro avg       0.85      0.85      0.85       300\n",
      "weighted avg       0.87      0.87      0.87       300\n",
      "\n"
     ]
    },
    {
     "data": {
      "image/png": "[encoded data removed]",
      "text/plain": [
       "<Figure size 1000x600 with 1 Axes>"
      ]
     },
     "metadata": {},
     "output_type": "display_data"
    },
    {
     "data": {
      "application/javascript": "\n    async function download(id, filename, size) {\n      if (!google.colab.kernel.accessAllowed) {\n        return;\n      }\n      const div = document.createElement('div');\n      const label = document.createElement('label');\n      label.textContent = `Downloading \"${filename}\": `;\n      div.appendChild(label);\n      const progress = document.createElement('progress');\n      progress.max = size;\n      div.appendChild(progress);\n      document.body.appendChild(div);\n\n      const buffers = [];\n      let downloaded = 0;\n\n      const channel = await google.colab.kernel.comms.open(id);\n      // Send a message to notify the kernel that we're ready.\n      channel.send({})\n\n      for await (const message of channel.messages) {\n        // Send a message to notify the kernel that we're ready.\n        channel.send({})\n        if (message.buffers) {\n          for (const buffer of message.buffers) {\n            buffers.push(buffer);\n            downloaded += buffer.byteLength;\n            progress.value = downloaded;\n          }\n        }\n      }\n      const blob = new Blob(buffers, {type: 'application/binary'});\n      const a = document.createElement('a');\n      a.href = window.URL.createObjectURL(blob);\n      a.download = filename;\n      div.appendChild(a);\n      a.click();\n      div.remove();\n    }\n  ",
      "text/plain": [
       "<IPython.core.display.Javascript object>"
      ]
     },
     "metadata": {},
     "output_type": "display_data"
    },
    {
     "data": {
      "application/javascript": "download(\"download_e1b82087-4af0-4c12-90c7-785706c38513\", \"model_results.md\", 1370)",
      "text/plain": [
       "<IPython.core.display.Javascript object>"
      ]
     },
     "metadata": {},
     "output_type": "display_data"
    }
   ],
   "source": [
    "# Display results\n",
    "for name, result in results.items():\n",
    "    print(f\"\\n{'-'*50}\")\n",
    "    print(f\"{name} Results:\")\n",
    "    print(f\"Accuracy: {result['accuracy']:.4f}\")\n",
    "    print(\"\\nClassification Report:\")\n",
    "    print(result['classification_report'])\n",
    "\n",
    "# Create accuracy comparison plot\n",
    "plt.figure(figsize=(10, 6))\n",
    "accuracies = [result['accuracy'] for result in results.values()]\n",
    "model_names = list(results.keys())\n",
    "\n",
    "plt.bar(model_names, accuracies)\n",
    "plt.title('Model Accuracy Comparison')\n",
    "plt.ylabel('Accuracy')\n",
    "plt.xticks(rotation=45)\n",
    "plt.tight_layout()\n",
    "plt.show()\n",
    "\n",
    "# Save results to markdown file\n",
    "with open('model_results.md', 'w') as f:\n",
    "    f.write(\"# Fuel Cell Performance Prediction Results\\n\\n\")\n",
    "\n",
    "    # Add dataset information\n",
    "    f.write(\"## Dataset Information\\n\")\n",
    "    f.write(f\"* Number of features: {len(feature_cols)}\\n\")\n",
    "    f.write(f\"* Number of samples: {len(df)}\\n\")\n",
    "    f.write(f\"* Training set size: {len(X_train)}\\n\")\n",
    "    f.write(f\"* Test set size: {len(X_test)}\\n\\n\")\n",
    "\n",
    "    # Add model results\n",
    "    for model_name, result in results.items():\n",
    "        f.write(f\"## {model_name}\\n\\n\")\n",
    "        f.write(f\"### Accuracy: {result['accuracy']:.4f}\\n\\n\")\n",
    "        f.write(\"### Classification Report:\\n\")\n",
    "        f.write(\"```\\n\")\n",
    "        f.write(result['classification_report'])\n",
    "        f.write(\"\\n```\\n\\n\")\n",
    "\n",
    "# Download the results file\n",
    "from google.colab import files\n",
    "files.download('model_results.md')"
   ]
  },
  {
   "cell_type": "code",
   "execution_count": 29,
   "metadata": {
    "colab": {
     "base_uri": "https://localhost:8080/",
     "height": 17
    },
    "id": "ZVPCGOctYDEu",
    "outputId": "c8d9b638-e809-445e-f10d-6fb0ea9335e5"
   },
   "outputs": [
    {
     "data": {
      "application/javascript": "\n    async function download(id, filename, size) {\n      if (!google.colab.kernel.accessAllowed) {\n        return;\n      }\n      const div = document.createElement('div');\n      const label = document.createElement('label');\n      label.textContent = `Downloading \"${filename}\": `;\n      div.appendChild(label);\n      const progress = document.createElement('progress');\n      progress.max = size;\n      div.appendChild(progress);\n      document.body.appendChild(div);\n\n      const buffers = [];\n      let downloaded = 0;\n\n      const channel = await google.colab.kernel.comms.open(id);\n      // Send a message to notify the kernel that we're ready.\n      channel.send({})\n\n      for await (const message of channel.messages) {\n        // Send a message to notify the kernel that we're ready.\n        channel.send({})\n        if (message.buffers) {\n          for (const buffer of message.buffers) {\n            buffers.push(buffer);\n            downloaded += buffer.byteLength;\n            progress.value = downloaded;\n          }\n        }\n      }\n      const blob = new Blob(buffers, {type: 'application/binary'});\n      const a = document.createElement('a');\n      a.href = window.URL.createObjectURL(blob);\n      a.download = filename;\n      div.appendChild(a);\n      a.click();\n      div.remove();\n    }\n  ",
      "text/plain": [
       "<IPython.core.display.Javascript object>"
      ]
     },
     "metadata": {},
     "output_type": "display_data"
    },
    {
     "data": {
      "application/javascript": "download(\"download_90a23448-7aab-4ed7-a3fc-eaa97c467840\", \"README.md\", 477)",
      "text/plain": [
       "<IPython.core.display.Javascript object>"
      ]
     },
     "metadata": {},
     "output_type": "display_data"
    }
   ],
   "source": [
    "# Create README.md\n",
    "with open('README.md', 'w') as f:\n",
    "    f.write(\"\"\"# Fuel Cell Performance Prediction\n",
    "\n",
    "## Project Overview\n",
    "This project analyzes fuel cell performance data using multiple machine learning models.\n",
    "\n",
    "## Models Used\n",
    "- Random Forest Classifier\n",
    "- Logistic Regression\n",
    "- Support Vector Machine (SVM)\n",
    "\n",
    "## Files\n",
    "- `model_results.md`: Detailed results of model performance\n",
    "- Python notebook: Contains all the code for data preprocessing and model training\n",
    "\n",
    "## Results\n",
    "See `model_results.md` for detailed performance metrics of each model.\n",
    "\"\"\")\n",
    "\n",
    "# Download README\n",
    "files.download('README.md')"
   ]
  },
  {
   "cell_type": "code",
   "execution_count": 35,
   "metadata": {
    "colab": {
     "base_uri": "https://localhost:8080/",
     "height": 844
    },
    "id": "-NK6D_coar7s",
    "outputId": "0921e156-d7e9-45b9-fb98-719f0e8dc5c4"
   },
   "outputs": [
    {
     "name": "stdout",
     "output_type": "stream",
     "text": [
      "\n",
      "Detailed Classification Report:\n",
      "              precision    recall  f1-score   support\n",
      "\n",
      "     Target3       0.86      0.95      0.90       209\n",
      "     Target5       0.85      0.66      0.74        91\n",
      "\n",
      "    accuracy                           0.86       300\n",
      "   macro avg       0.85      0.80      0.82       300\n",
      "weighted avg       0.86      0.86      0.85       300\n",
      "\n"
     ]
    },
    {
     "data": {
      "image/png": "[encoded data removed]",
      "text/plain": [
       "<Figure size 1000x800 with 2 Axes>"
      ]
     },
     "metadata": {},
     "output_type": "display_data"
    },
    {
     "name": "stdout",
     "output_type": "stream",
     "text": [
      "\n",
      "Accuracy Score: 0.8600\n"
     ]
    }
   ],
   "source": [
    "from sklearn.metrics import classification_report, confusion_matrix, accuracy_score\n",
    "\n",
    "# Get predictions from Random Forest model\n",
    "rf_model = models['Random Forest']\n",
    "y_pred_rf = rf_model.predict(X_test_scaled)\n",
    "\n",
    "# Calculate detailed metrics\n",
    "print(\"\\nDetailed Classification Report:\")\n",
    "print(classification_report(y_test, y_pred_rf))\n",
    "\n",
    "# Calculate Confusion Matrix\n",
    "cm = confusion_matrix(y_test, y_pred_rf)\n",
    "\n",
    "# Plot Confusion Matrix\n",
    "plt.figure(figsize=(10,8))\n",
    "sns.heatmap(cm, annot=True, fmt='d', cmap='Blues')\n",
    "plt.title('Confusion Matrix for Random Forest')\n",
    "plt.xlabel('Predicted')\n",
    "plt.ylabel('Actual')\n",
    "plt.show()\n",
    "\n",
    "# Print Accuracy Score\n",
    "print(f\"\\nAccuracy Score: {accuracy_score(y_test, y_pred_rf):.4f}\")"
   ]
  }
 ],
 "metadata": {
  "colab": {
   "provenance": []
  },
  "kernelspec": {
   "display_name": "Python 3",
   "name": "python3"
  },
  "language_info": {
   "name": "python"
  }
 },
 "nbformat": 4,
 "nbformat_minor": 0
}
